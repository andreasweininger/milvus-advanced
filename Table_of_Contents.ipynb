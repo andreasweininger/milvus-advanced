{
 "cells": [
  {
   "cell_type": "markdown",
   "metadata": {},
   "source": [
    "![Top](./images/watsonxdata.png \"watsonxdata\") "
   ]
  },
  {
   "cell_type": "markdown",
   "metadata": {},
   "source": [
    "# TechXchange Hands-on Lab 2520: Advanced Querying of a Milvus Vector Database\n",
    "The series of notebooks below will demonstrate how the vector database system Milvus can be used."
   ]
  },
  {
   "cell_type": "markdown",
   "metadata": {},
   "source": [
    "Milvus is vector database system which is one of the engines of IBM’s lakehouse platform watsonx.data which by itself is a core component of watsonx, IBM’s enterprise-ready AI and data platform that’s designed to multiply the impact of AI across an enterprise.\n",
    "\n",
    "The watsonx platform has three powerful components: the watsonx.ai studio for new foundation models, generative AI, and Machine Learning (traditional AI); the watsonx.data fit-for-purpose data lakehouse that provides the flexibility of a data lake with the performance of a data warehouse; and the watsonx.governance toolkit, which enables AI workflows that are built with responsibility, transparency, and explainability.\n"
   ]
  },
  {
   "cell_type": "markdown",
   "metadata": {},
   "source": [
    "## Contents of the Labs"
   ]
  },
  {
   "cell_type": "markdown",
   "metadata": {},
   "source": [
    "In the era of AI-driven applications, vector databases have emerged as crucial tools for many use cases. This lab focuses on the advanced querying techniques of Milvus, a high-performance, open-source vector database designed for scalable similarity searches which is part of watsonx.data. This lab deals not only with Approximate Nearest Neighbor (ANN) searches, but shows also examples using filtered searches, range searches, and multivector queries. Through hands-on exercises, attendees will learn how to write the best queries for different use cases. Therefore, this lab offers a comprehensive understanding of how to leverage Milvus for advanced data retrieval and management, empowering developers to unlock the full potential of vector databases in real-world applications."
   ]
  },
  {
   "cell_type": "markdown",
   "metadata": {},
   "source": [
    "## Watsonx.data and Presto SQL\n",
    "The notebooks below explore the SQL that is available in Presto and introduce the user to Presto Magic commands which simplify the connection and execution of SQL statements."
   ]
  },
  {
   "cell_type": "markdown",
   "metadata": {},
   "source": [
    "<div style=\"font-family: 'IBM Plex Sans';\">\n",
    "<table style=\"float:left; width: 620px; height: 235px; border-spacing: 10px; border-collapse: separate; table-layout: fixed\">\n",
    "    <td style=\"padding: 15px; text-align:left; vertical-align: text-top; background-color:#F7F7F7; width: 300px; height:250px\">\n",
    "        <div style=\"height: 75px\"><p style=\"font-size: 24px\">\n",
    "<!-- Title -->            \n",
    "Lab 1: Getting Familiar with Milvus\n",
    "</div>\n",
    "        <div style=\"height: 125px\"><p style=\"font-size: 14px\">\n",
    "<!-- Abstract -->\n",
    "This lab shows how to connect to Milvus, and explains basic concepts like collections, fields, and indexes.\n",
    "        </div>\n",
    "        <div style=\"height: 25px\"><p style=\"font-size: 12px; text-align: right\">\n",
    "        </div>  \n",
    "        <div style=\"height: 10px\"><p style=\"font-size: 12px; text-align: right\">\n",
    "<!-- URL -->            \n",
    "<a href=\"./hol2520-01.ipynb\">\n",
    "                 <img style=\"display: inline-block;\"src=\"images/arrowblue.png\"></a>            \n",
    "        </div>            \n",
    "    </td>    \n",
    "    <td style=\"padding: 15px; text-align:left; vertical-align: text-top; background-color:#F7F7F7; width: 300px; height:250px\">\n",
    "        <div style=\"height: 75px\"><p style=\"font-size: 24px\">\n",
    "<!-- Title -->            \n",
    "Lab 2: Simple Queries\n",
    "</div>\n",
    "        <div style=\"height: 125px\"><p style=\"font-size: 14px\">\n",
    "<!-- Abstract -->\n",
    "This lab shows how Milvus can be used as a vector database for RAG use cases.\n",
    "        </div>\n",
    "        <div style=\"height: 25px\"><p style=\"font-size: 12px; text-align: right\">\n",
    "        </div>  \n",
    "        <div style=\"height: 10px\"><p style=\"font-size: 12px; text-align: right\">\n",
    "<!-- URL -->            \n",
    "<a href=\"./hol2520-02.ipynb\">\n",
    "                 <img style=\"display: inline-block;\"src=\"images/arrowblue.png\"></a>            \n",
    "        </div>            \n",
    "    </td>   \n",
    "    <td style=\"padding: 15px; text-align:left; vertical-align: text-top; background-color:#F7F7F7; width: 300px; height: 250px;\">\n",
    "        <div style=\"height: 75px\"><p style=\"font-size: 24px\">\n",
    "<!-- Title -->            \n",
    "Lab 3: Filtered Queries\n",
    "</div>\n",
    "        <div style=\"height: 125px\"><p style=\"font-size: 14px\">\n",
    "<!-- Abstract -->\n",
    "In the previous lab searches were only performed on the vector field. In this lab the nearest neighbor search on the vector field is combined with additional search conditions on scalar fields.\n",
    "        </div>\n",
    "        <div style=\"height: 25px\"><p style=\"font-size: 12px; text-align: right\">\n",
    "        </div>  \n",
    "        <div style=\"height: 10px\"><p style=\"font-size: 12px; text-align: right\">\n",
    "<!-- URL -->            \n",
    "<a href=\"./hol2520-03.ipynb\">\n",
    "                 <img style=\"display: inline-block;\"src=\"images/arrowblue.png\"></a>            \n",
    "        </div>            \n",
    "    </td>   \n",
    "</table>\n",
    "</div>"
   ]
  },
  {
   "cell_type": "markdown",
   "metadata": {},
   "source": [
    "<div style=\"font-family: 'IBM Plex Sans';\">\n",
    "<table style=\"float:left; width: 300px; height: 235px; border-spacing: 10px; border-collapse: separate; table-layout: fixed\">\n",
    "    <td style=\"padding: 15px; text-align:left; vertical-align: text-top; background-color:#F7F7F7; width: 300px; height: 250px;\">\n",
    "        <div style=\"height: 75px\"><p style=\"font-size: 24px\">\n",
    "<!-- Title -->\n",
    "Lab 4: Range Searches\n",
    "        </div>\n",
    "        <div style=\"height: 125px\"><p style=\"font-size: 14px\">\n",
    "<!-- Description -->\n",
    "A range search is a approximate nearest neighbor search followed by a restriction on the distance range. This lab shows how this can be performed. \n",
    "        </div>\n",
    "        <div style=\"height: 25px\"><p style=\"font-size: 12px; text-align: right\">\n",
    "<!-- Duration -->            \n",
    "        </div>\n",
    "        <div style=\"height: 10px\"><p style=\"font-size: 12px; text-align: right\">\n",
    "<!-- URL -->\n",
    "<a href=\"./hol2520-04.ipynb\">\n",
    "        <img style=\"display: inline-block;\"src=\"images/arrowblue.png\"></a>            \n",
    "        </div>        \n",
    "    </td>      \n",
    "    <td style=\"padding: 15px; text-align:left; vertical-align: text-top; background-color:#F7F7F7; width: 300px; height: 250px;\">\n",
    "        <div style=\"height: 75px\"><p style=\"font-size: 24px\">\n",
    "<!-- Title -->\n",
    "Lab 5: Hybrid Multi-vector queries\n",
    "        </div>\n",
    "        <div style=\"height: 125px\"><p style=\"font-size: 14px\">\n",
    "<!-- Description -->\n",
    "Milvus allows you to search for objects using multiple types of information, such as text, images, and audio. This is called hybrid or multi-vector search. It combines searches across different fields to enhance the search experience. This labs shows how this can be done.\n",
    "        </div>\n",
    "        <div style=\"height: 25px\"><p style=\"font-size: 12px; text-align: right\">\n",
    "<!-- Duration -->            \n",
    "        </div>\n",
    "        <div style=\"height: 10px\"><p style=\"font-size: 12px; text-align: right\">\n",
    "<!-- URL -->\n",
    "<a href=\"./hol2520-05.ipynb\">\n",
    "        <img style=\"display: inline-block;\"src=\"images/arrowblue.png\"></a>            \n",
    "        </div>        \n",
    "    </td>      \n",
    "</table>\n",
    "</div>"
   ]
  },
  {
   "cell_type": "markdown",
   "metadata": {},
   "source": [
    "##### Copyright (c) IBM 2025, Wilfried Hoge [hoge@de.ibm.com], Andreas Weininger [andreas.weininger@de.ibm.com]"
   ]
  }
 ],
 "metadata": {
  "kernelspec": {
   "display_name": "Python 3 (ipykernel)",
   "language": "python",
   "name": "python3"
  },
  "language_info": {
   "codemirror_mode": {
    "name": "ipython",
    "version": 3
   },
   "file_extension": ".py",
   "mimetype": "text/x-python",
   "name": "python",
   "nbconvert_exporter": "python",
   "pygments_lexer": "ipython3",
   "version": "3.9.21"
  }
 },
 "nbformat": 4,
 "nbformat_minor": 4
}
