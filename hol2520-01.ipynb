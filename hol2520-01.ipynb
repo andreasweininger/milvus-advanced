{
 "cells": [
  {
   "cell_type": "markdown",
   "id": "b09a288b-7761-44dd-9d4b-4aa9539664ee",
   "metadata": {},
   "source": [
    "![Top <](./images/watsonxdata.png \"watsonxdata\")"
   ]
  },
  {
   "cell_type": "markdown",
   "id": "01b17f5b-c800-4596-ac01-007a35d6fb86",
   "metadata": {},
   "source": [
    "# Lab 1: Getting familiar with Milvus\n",
    "\n",
    "This notebook demonstrates connecting to a Milvus service when using Jupyter notebooks. Then it shows how create a simple collection with an index.\n",
    "\n",
    "The first step is to make sure that the Milvus extensions are loaded into the notebook. "
   ]
  },
  {
   "cell_type": "code",
   "execution_count": null,
   "id": "dcb61b9c-2cee-4097-9825-561bff73af44",
   "metadata": {},
   "outputs": [],
   "source": [
    "!pip install pymilvus==2.6.2"
   ]
  },
  {
   "cell_type": "markdown",
   "id": "c44c6e6d-b973-42d5-b883-1733700e6d02",
   "metadata": {},
   "source": [
    "## Local Connection\n",
    "\n",
    "A local connection assumes that you are running your Jupyter notebook inside the same server that is running watsonx.data and the Milvus server. The connection user is the default watsonx.data userid (ibmlhadmin). You need to generate the certificate that will be used by the connection."
   ]
  },
  {
   "cell_type": "markdown",
   "id": "6f69e4a4-7d5d-47bc-999a-bd4a804cdc0f",
   "metadata": {},
   "source": [
    "### Generate the Connection Certificate"
   ]
  },
  {
   "cell_type": "code",
   "execution_count": null,
   "id": "855fcd41-b112-4728-850f-d2d0adbdb93a",
   "metadata": {},
   "outputs": [],
   "source": [
    "!rm -f /tmp/presto.cert\n",
    "!echo QUIT | openssl s_client -showcerts -connect localhost:8443 | awk '/-----BEGIN CERTIFICATE-----/ {p=1}; p; /-----END CERTIFICATE-----/ {p=0}' > /tmp/presto.crt"
   ]
  },
  {
   "cell_type": "code",
   "execution_count": null,
   "id": "916d7823-aa5b-40f2-9e61-0a4127f59f14",
   "metadata": {},
   "outputs": [],
   "source": [
    "rc = %system echo QUIT | openssl s_client -showcerts -connect watsonxdata:8443 | \\\n",
    "        awk '/-----BEGIN CERTIFICATE-----/ {p=1}; p; /-----END CERTIFICATE-----/ {p=0}' > /tmp/presto.crt "
   ]
  },
  {
   "cell_type": "markdown",
   "id": "f52e05e1-98a0-463e-9348-57660e144729",
   "metadata": {},
   "source": [
    "### Local Connection Parameters"
   ]
  },
  {
   "cell_type": "code",
   "execution_count": null,
   "id": "4313a49a-fa0c-4d49-91fe-48a6c77f0973",
   "metadata": {},
   "outputs": [],
   "source": [
    "host            = 'watsonxdata'\n",
    "port            = 19530\n",
    "apiuser         = 'xxxxxxxxxx'\n",
    "apikey          = 'xxxxxxxx'\n",
    "server_pem_path = '/tmp/presto.crt'"
   ]
  },
  {
   "cell_type": "markdown",
   "id": "ab7519ee-3ff9-4952-a1b7-8280857547be",
   "metadata": {},
   "source": [
    "## Milvus Connection"
   ]
  },
  {
   "cell_type": "code",
   "execution_count": null,
   "id": "0ca636f6-3549-43d4-aa53-55406453e422",
   "metadata": {},
   "outputs": [],
   "source": [
    "from pymilvus import(\n",
    "    IndexType,\n",
    "    Status,\n",
    "    connections,\n",
    "    FieldSchema,\n",
    "    DataType,\n",
    "    Collection,\n",
    "    CollectionSchema,\n",
    ")\n",
    "\n",
    "connections.connect(alias='default',\n",
    "                   host=host,\n",
    "                   port=port,\n",
    "                   user=apiuser,\n",
    "                   password=apikey,\n",
    "                   server_pem_path=server_pem_path,\n",
    "                   server_name='watsonxdata',\n",
    "                   secure=True)"
   ]
  },
  {
   "cell_type": "markdown",
   "id": "88891718-6a17-48a4-818a-4a0ec22033fd",
   "metadata": {},
   "source": [
    "### Check Connection Status"
   ]
  },
  {
   "cell_type": "code",
   "execution_count": null,
   "id": "d6c68194-8f9f-4334-8361-1864f6601286",
   "metadata": {},
   "outputs": [],
   "source": [
    "print(f\"\\nList connections:\")\n",
    "print(connections.list_connections())"
   ]
  },
  {
   "cell_type": "markdown",
   "id": "632f277f-e5bf-475a-b422-eefe1fe604ed",
   "metadata": {},
   "source": [
    "## Create a Collection in Milvus\n",
    "This code will drop the wiki_articles collection if it exists, and then recreate it. This script should return the following text.\n",
    "```\n",
    "Status(code=0, message=)\n",
    "```"
   ]
  },
  {
   "cell_type": "markdown",
   "id": "7a0dfcc0-03db-4a40-8be8-5e9c775d0aa3",
   "metadata": {},
   "source": [
    "#### Make various unitilty commands available"
   ]
  },
  {
   "cell_type": "code",
   "execution_count": null,
   "id": "68c6aa9c-355e-4f9b-90a8-98f0de2f1f2d",
   "metadata": {},
   "outputs": [],
   "source": [
    "from pymilvus import utility"
   ]
  },
  {
   "cell_type": "markdown",
   "id": "8a3feb49-1e5e-411f-81f9-d4090beaadf4",
   "metadata": {},
   "source": [
    "#### Clean up previous collection if one already exists"
   ]
  },
  {
   "cell_type": "code",
   "execution_count": null,
   "id": "d557171e-6467-4a89-898b-b6d1a4b1fcfa",
   "metadata": {},
   "outputs": [],
   "source": [
    "utility.drop_collection(\"wiki_articles\")"
   ]
  },
  {
   "cell_type": "markdown",
   "id": "ff224431-7c36-4153-a295-71b9193dbfef",
   "metadata": {},
   "source": [
    "#### Create a sample collection"
   ]
  },
  {
   "cell_type": "code",
   "execution_count": null,
   "id": "6b6f0198-bc1a-483c-83fc-e7e114b1b6b2",
   "metadata": {},
   "outputs": [],
   "source": [
    "fields = [\n",
    "    FieldSchema(name=\"id\", dtype=DataType.INT64, is_primary=True, auto_id=True), # Primary key\n",
    "    FieldSchema(name=\"article_text\", dtype=DataType.VARCHAR, max_length=2500,),\n",
    "    FieldSchema(name=\"article_title\", dtype=DataType.VARCHAR, max_length=200,),\n",
    "    FieldSchema(name=\"article_subtopic\", dtype=DataType.VARCHAR, max_length=10,),\n",
    "    FieldSchema(name=\"vector\", dtype=DataType.FLOAT_VECTOR, dim=384),\n",
    "]\n",
    "\n",
    "schema = CollectionSchema(fields, \"wikipedia article collection schema\")\n",
    "\n",
    "wiki_collection = Collection(\"wiki_articles\", schema)"
   ]
  },
  {
   "cell_type": "markdown",
   "id": "12c2e3fb-d8b6-4578-aa2a-20aa1be70ffa",
   "metadata": {},
   "source": [
    "#### Create an index for this collection\n",
    "\n",
    "- metric_type specifies the distance metric used in the vector space. L2 is the Euclidian distance.\n",
    "- index_type specifies the type of vector index to use. IVF means inverted file index which means clusting the the vector space and representing each cluster by its centroid. FLAT means that vectors are stored directly without any compression or quantization meaning that precise distance calculations are possible\n",
    "- params specifies several parameters relevant for our index. For instance nlist defines the number clusters to use for the inverted file index. "
   ]
  },
  {
   "cell_type": "code",
   "execution_count": null,
   "id": "1c899e5f-3847-4ce6-82ec-3f8b13fa1b4e",
   "metadata": {},
   "outputs": [],
   "source": [
    "index_params = {\n",
    "        'metric_type':'L2',\n",
    "        'index_type':\"IVF_FLAT\",\n",
    "        'params':{\"nlist\":2048}\n",
    "}\n",
    "\n",
    "wiki_collection.create_index(field_name=\"vector\", index_params=index_params)"
   ]
  },
  {
   "cell_type": "markdown",
   "id": "85057191-1b7f-4017-a57e-0f33534e6a83",
   "metadata": {},
   "source": [
    "#### Double Check that the schema exists"
   ]
  },
  {
   "cell_type": "code",
   "execution_count": null,
   "id": "7e3ae789-f4d8-4a14-a119-15b7d9cccc48",
   "metadata": {},
   "outputs": [],
   "source": [
    "from pymilvus import utility\n",
    "utility.list_collections()"
   ]
  },
  {
   "cell_type": "markdown",
   "id": "e6c19f27-ab7d-4d31-94e0-b340423076ea",
   "metadata": {},
   "source": [
    "## Get data from Wikipedia for loading into our collection"
   ]
  },
  {
   "cell_type": "code",
   "execution_count": null,
   "id": "89ddeba1-e82d-45c4-be19-85448d73ca64",
   "metadata": {},
   "outputs": [],
   "source": [
    "import wikipedia\n",
    "import pandas as pd\n",
    "import warnings\n",
    "warnings.filterwarnings('ignore')\n",
    "\n",
    "# search\n",
    "search_results = wikipedia.search(\"Climate\")\n",
    "\n",
    "articles = []\n",
    "for i in range (0,len(search_results)):\n",
    "    try:\n",
    "        summary = wikipedia.summary(search_results[i],auto_suggest=False)\n",
    "    except Exception as err:\n",
    "        print(f\"Skipped article '{search_results[i]}' skipped because of ambiguity.\")\n",
    "        continue\n",
    "    try:\n",
    "        page = wikipedia.page(search_results[i],auto_suggest=False).content\n",
    "    except Exception as err:\n",
    "        print(f\"Skipped article '{search_results[i]}' skipped because of ambiguity.\")\n",
    "        continue\n",
    "\n",
    "    \n",
    "    articles.append({\n",
    "        \"title\"   : search_results[i],\n",
    "        \"summary\" : summary,\n",
    "        \"page\"    : page\n",
    "    })\n",
    "\n",
    "df = pd.DataFrame.from_dict(articles)\n",
    "df.style.set_properties(**{'text-align': 'left'})\n",
    "print(df)"
   ]
  },
  {
   "cell_type": "code",
   "execution_count": null,
   "id": "1c8b35b0-55b7-4a74-b5f1-8018e89b81a1",
   "metadata": {},
   "outputs": [],
   "source": [
    "print(articles)"
   ]
  },
  {
   "cell_type": "markdown",
   "id": "ccc2c1f3-b919-45dc-9a98-ccebe7480b6b",
   "metadata": {},
   "source": [
    "## Split Articles into chunks"
   ]
  },
  {
   "cell_type": "markdown",
   "id": "c7ea9405-e9b1-46c6-80a0-0ea9a2058fae",
   "metadata": {},
   "source": [
    "### Define function for splitting article into chunks"
   ]
  },
  {
   "cell_type": "code",
   "execution_count": null,
   "id": "b64fabfe-715c-4e81-a245-9865e13f69eb",
   "metadata": {},
   "outputs": [],
   "source": [
    "# Chunk data\n",
    "def split_into_chunks(text, chunk_size):\n",
    "    words = text.split()\n",
    "    #print('text:',text)\n",
    "    #print('words:',words)\n",
    "    return [' '.join(words[i:i + chunk_size]) for i in range(0, len(words), chunk_size)]"
   ]
  },
  {
   "cell_type": "markdown",
   "id": "ee64ad40-edb9-413f-a90e-1802666a9f88",
   "metadata": {},
   "source": [
    "### Create list of chunks for all articles and create analog list for additional metadata correspong to the chunk (title, subtopic)"
   ]
  },
  {
   "cell_type": "code",
   "execution_count": null,
   "id": "4b9df370-2183-4b89-97a3-01bd675feb4f",
   "metadata": {
    "scrolled": true
   },
   "outputs": [],
   "source": [
    "chunk_size=255\n",
    "passages=[]\n",
    "passages_titles=[]\n",
    "passages_subtopic=[]\n",
    "\n",
    "for a in articles:\n",
    "    print('title',a['title'])\n",
    "    if a['title'] == \"Climate\":\n",
    "        subtopic=\"false\"\n",
    "    else:\n",
    "        subtopic=\"true\"\n",
    "\n",
    "    p = a['page']\n",
    "    cl = split_into_chunks(p,chunk_size)\n",
    "\n",
    "    print(\"number of chunks=\",len(cl))\n",
    "    for c in cl:\n",
    "        passages.append(c)\n",
    "        passages_titles.append(a['title'])\n",
    "        passages_subtopic.append(subtopic)"
   ]
  },
  {
   "cell_type": "markdown",
   "id": "f8ef91f6-8a11-4516-906e-2a3667d7249e",
   "metadata": {},
   "source": [
    "### Create the embeddings for the chunks"
   ]
  },
  {
   "cell_type": "code",
   "execution_count": null,
   "id": "10145813-aa87-4117-9492-d98200b06585",
   "metadata": {},
   "outputs": [],
   "source": [
    "from sentence_transformers import SentenceTransformer\n",
    "model = SentenceTransformer('sentence-transformers/all-MiniLM-L6-v2') # 384 dim\n",
    "passages_embeddings = model.encode(passages)\n"
   ]
  },
  {
   "cell_type": "markdown",
   "id": "3edd52d3-791b-473c-972d-742cf129d7de",
   "metadata": {},
   "source": [
    "### Insert all data into the collection created above"
   ]
  },
  {
   "cell_type": "code",
   "execution_count": null,
   "id": "127cad62-a4e2-4b51-b946-6d63c8496e6b",
   "metadata": {},
   "outputs": [],
   "source": [
    "basic_collection = Collection(\"wiki_articles\") \n",
    "data = [\n",
    "    passages,\n",
    "    passages_titles,\n",
    "    passages_subtopic,\n",
    "    passages_embeddings\n",
    "]\n",
    "out = basic_collection.insert(data)\n",
    "basic_collection.flush()  # Ensures data persistence\n",
    "print(\"Done\")"
   ]
  },
  {
   "cell_type": "markdown",
   "id": "10cad6b4-fe9b-42bf-a651-633872698811",
   "metadata": {},
   "source": [
    "## Get Infos about the Milvus system \n",
    "\n",
    "The following commands show you how you can get information about you Milvus system"
   ]
  },
  {
   "cell_type": "markdown",
   "id": "bdfe9d41-78e0-4b8b-9b07-ca595ef97d3c",
   "metadata": {},
   "source": [
    "#### Server Version"
   ]
  },
  {
   "cell_type": "code",
   "execution_count": null,
   "id": "10225852-7ba4-401d-bd54-6963c7a6ee91",
   "metadata": {},
   "outputs": [],
   "source": [
    "res = utility.get_server_version()\n",
    "print(res)"
   ]
  },
  {
   "cell_type": "markdown",
   "id": "367bda88-192f-4861-ad5d-2a492adf4d21",
   "metadata": {},
   "source": [
    "#### Server Type"
   ]
  },
  {
   "cell_type": "code",
   "execution_count": null,
   "id": "e00a3e1a-20a2-461d-b605-5642ff1534d5",
   "metadata": {},
   "outputs": [],
   "source": [
    "res = utility.get_server_type()\n",
    "print(res)"
   ]
  },
  {
   "cell_type": "markdown",
   "id": "285982bc-8196-4bbe-8b56-1f324ab87b50",
   "metadata": {},
   "source": [
    "#### Check the connections"
   ]
  },
  {
   "cell_type": "code",
   "execution_count": null,
   "id": "eccaace4-947e-4dcd-9cb5-13055fe71e82",
   "metadata": {},
   "outputs": [],
   "source": [
    "connections.list_connections()"
   ]
  },
  {
   "cell_type": "markdown",
   "id": "d11cb8d0-bd66-48ff-ace0-06aef1765d48",
   "metadata": {},
   "source": [
    "## Get Infos about the collection we created\n",
    "\n",
    "Milvus offers several options to get more information about collections. In the following cells we explore a few of them."
   ]
  },
  {
   "cell_type": "markdown",
   "id": "7fdc98ea-0179-4d25-bc51-c1aef3f396ac",
   "metadata": {},
   "source": [
    "#### Get the name of the collection"
   ]
  },
  {
   "cell_type": "code",
   "execution_count": null,
   "id": "c65e0a0f-7755-402d-a946-c065bcc18c7d",
   "metadata": {},
   "outputs": [],
   "source": [
    "wiki_collection.name"
   ]
  },
  {
   "cell_type": "markdown",
   "id": "e426ff7f-800f-4408-9743-84ede5329f8d",
   "metadata": {},
   "source": [
    "#### Get the description of the collection"
   ]
  },
  {
   "cell_type": "code",
   "execution_count": null,
   "id": "da78b057-c932-468c-9a53-f8794420042b",
   "metadata": {},
   "outputs": [],
   "source": [
    "res = wiki_collection.description\n",
    "print(res)"
   ]
  },
  {
   "cell_type": "markdown",
   "id": "ddff27f6-9180-4f24-a5b8-f394373d30fb",
   "metadata": {},
   "source": [
    "#### Get the schema of the collection\n",
    "\n",
    "The following command returns a JSON file describing the schema of the collection."
   ]
  },
  {
   "cell_type": "code",
   "execution_count": null,
   "id": "f4e07ec1-2505-4326-b19e-9716446144a6",
   "metadata": {},
   "outputs": [],
   "source": [
    "wiki_collection.schema"
   ]
  },
  {
   "cell_type": "markdown",
   "id": "d1aa8129-cbb8-4167-b61e-82600fbd7850",
   "metadata": {},
   "source": [
    "#### Check if the collection contains any data"
   ]
  },
  {
   "cell_type": "code",
   "execution_count": null,
   "id": "65a3b56a-f5b4-4a92-86c2-918bbb031b44",
   "metadata": {},
   "outputs": [],
   "source": [
    "wiki_collection.is_empty"
   ]
  },
  {
   "cell_type": "markdown",
   "id": "d098330b-6088-4824-8fd0-77c0d3390152",
   "metadata": {},
   "source": [
    "#### How many entities (rows) are in the collection"
   ]
  },
  {
   "cell_type": "code",
   "execution_count": null,
   "id": "086e64f3-53d2-47e0-a750-8256ba10f986",
   "metadata": {},
   "outputs": [],
   "source": [
    "wiki_collection.num_entities"
   ]
  },
  {
   "cell_type": "markdown",
   "id": "fd774fc7-6c4e-460f-94b5-c54bd1ef8bcb",
   "metadata": {},
   "source": [
    "#### What is the primary field of the collection\n",
    "\n",
    "Like a relational table a collection can have a primary field. With the following command we can check for this primary field."
   ]
  },
  {
   "cell_type": "code",
   "execution_count": null,
   "id": "1ef62492-5d2d-4fbe-8bf7-566febae22bf",
   "metadata": {},
   "outputs": [],
   "source": [
    "wiki_collection.primary_field"
   ]
  },
  {
   "cell_type": "markdown",
   "id": "519db87d-0233-4c7c-b9b4-78a29ffac02b",
   "metadata": {},
   "source": [
    "#### Get all the partitions of this collection\n",
    "\n",
    "A collection can consist of several partitions. In this lab we will only use one partition per collection."
   ]
  },
  {
   "cell_type": "code",
   "execution_count": null,
   "id": "a8f34885-57bb-4786-a7c1-41303bd37c28",
   "metadata": {},
   "outputs": [],
   "source": [
    "wiki_collection.partitions"
   ]
  },
  {
   "cell_type": "markdown",
   "id": "9784bf9e-036a-4efe-9b2d-be60218a289a",
   "metadata": {},
   "source": [
    "#### Get the indexes of this collection\n",
    "\n",
    "Each vector field in a collection should have an index. The following command lists the indexes of a collection."
   ]
  },
  {
   "cell_type": "code",
   "execution_count": null,
   "id": "e29b6916-3fb1-41b7-9c3d-97d414bd31bf",
   "metadata": {},
   "outputs": [],
   "source": [
    "wiki_collection.indexes"
   ]
  },
  {
   "cell_type": "markdown",
   "id": "2e1edacd-ea64-4405-a794-5906265075e5",
   "metadata": {},
   "source": [
    "#### Get the names of the indexes of this collection"
   ]
  },
  {
   "cell_type": "code",
   "execution_count": null,
   "id": "620b3ffe-7e1f-4a38-908a-efaeb393c82c",
   "metadata": {},
   "outputs": [],
   "source": [
    "utility.list_indexes(collection_name=\"wiki_articles\")"
   ]
  },
  {
   "cell_type": "markdown",
   "id": "ddb9c221-896c-49e6-bc34-6e4f434d6f48",
   "metadata": {},
   "source": [
    "#### Get infos about the replicas of this collection\n",
    "\n",
    "A collection can have replicas. The concept of replicas is not further investigated in this lab."
   ]
  },
  {
   "cell_type": "code",
   "execution_count": null,
   "id": "6c306f04-e2eb-4b8c-911d-3d5c08f50854",
   "metadata": {},
   "outputs": [],
   "source": [
    "wiki_collection.get_replicas()"
   ]
  },
  {
   "cell_type": "markdown",
   "id": "16f55fa8-01bf-40c6-b8b1-ebbf908d5641",
   "metadata": {},
   "source": [
    "#### Get a JSON document with the meta data about this collection"
   ]
  },
  {
   "cell_type": "code",
   "execution_count": null,
   "id": "3431a008-11b3-47e8-b503-2e2b4b03ba1b",
   "metadata": {},
   "outputs": [],
   "source": [
    "wiki_collection.describe()"
   ]
  },
  {
   "cell_type": "markdown",
   "id": "b413cf1b-f8f3-47b8-91ff-906a5a42c3ae",
   "metadata": {},
   "source": [
    "#### Credits: IBM 2025, Wilfried Hoge [hoge@de.ibm.com] and Andreas Weininger [andreas.weininger@de.ibm.com] based on a notebook by George Baklarz [baklarz@ca.ibm.com]"
   ]
  }
 ],
 "metadata": {
  "kernelspec": {
   "display_name": "Python 3 (ipykernel)",
   "language": "python",
   "name": "python3"
  },
  "language_info": {
   "codemirror_mode": {
    "name": "ipython",
    "version": 3
   },
   "file_extension": ".py",
   "mimetype": "text/x-python",
   "name": "python",
   "nbconvert_exporter": "python",
   "pygments_lexer": "ipython3",
   "version": "3.9.21"
  }
 },
 "nbformat": 4,
 "nbformat_minor": 5
}
